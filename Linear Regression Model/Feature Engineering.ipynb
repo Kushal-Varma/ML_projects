{
 "cells": [
  {
   "cell_type": "code",
   "execution_count": 1,
   "id": "db8503ca",
   "metadata": {},
   "outputs": [],
   "source": [
    "import pandas as pd\n",
    "import numpy as np\n",
    "import matplotlib.pyplot as plt\n",
    "plt.style.use('dark_background')\n",
    "import warnings\n",
    "warnings.filterwarnings('ignore')"
   ]
  },
  {
   "cell_type": "code",
   "execution_count": 2,
   "id": "a81271a0",
   "metadata": {},
   "outputs": [
    {
     "data": {
      "text/html": [
       "<div>\n",
       "<style scoped>\n",
       "    .dataframe tbody tr th:only-of-type {\n",
       "        vertical-align: middle;\n",
       "    }\n",
       "\n",
       "    .dataframe tbody tr th {\n",
       "        vertical-align: top;\n",
       "    }\n",
       "\n",
       "    .dataframe thead th {\n",
       "        text-align: right;\n",
       "    }\n",
       "</style>\n",
       "<table border=\"1\" class=\"dataframe\">\n",
       "  <thead>\n",
       "    <tr style=\"text-align: right;\">\n",
       "      <th></th>\n",
       "      <th>ID</th>\n",
       "      <th>Date House was Sold</th>\n",
       "      <th>Sale Price</th>\n",
       "      <th>No of Bedrooms</th>\n",
       "      <th>No of Bathrooms</th>\n",
       "      <th>Flat Area (in Sqft)</th>\n",
       "      <th>Lot Area (in Sqft)</th>\n",
       "      <th>No of Floors</th>\n",
       "      <th>Waterfront View</th>\n",
       "      <th>No of Times Visited</th>\n",
       "      <th>...</th>\n",
       "      <th>Overall Grade</th>\n",
       "      <th>Area of the House from Basement (in Sqft)</th>\n",
       "      <th>Basement Area (in Sqft)</th>\n",
       "      <th>Age of House (in Years)</th>\n",
       "      <th>Renovated Year</th>\n",
       "      <th>Zipcode</th>\n",
       "      <th>Latitude</th>\n",
       "      <th>Longitude</th>\n",
       "      <th>Living Area after Renovation (in Sqft)</th>\n",
       "      <th>Lot Area after Renovation (in Sqft)</th>\n",
       "    </tr>\n",
       "  </thead>\n",
       "  <tbody>\n",
       "    <tr>\n",
       "      <th>0</th>\n",
       "      <td>7129300520</td>\n",
       "      <td>14 October 2017</td>\n",
       "      <td>221900.0</td>\n",
       "      <td>3</td>\n",
       "      <td>1.00</td>\n",
       "      <td>1180.0</td>\n",
       "      <td>5650.0</td>\n",
       "      <td>1.0</td>\n",
       "      <td>No</td>\n",
       "      <td>None</td>\n",
       "      <td>...</td>\n",
       "      <td>7</td>\n",
       "      <td>1180.0</td>\n",
       "      <td>0</td>\n",
       "      <td>63</td>\n",
       "      <td>0</td>\n",
       "      <td>98178.0</td>\n",
       "      <td>47.5112</td>\n",
       "      <td>-122.257</td>\n",
       "      <td>1340.0</td>\n",
       "      <td>5650</td>\n",
       "    </tr>\n",
       "    <tr>\n",
       "      <th>1</th>\n",
       "      <td>6414100192</td>\n",
       "      <td>14 December 2017</td>\n",
       "      <td>538000.0</td>\n",
       "      <td>3</td>\n",
       "      <td>2.25</td>\n",
       "      <td>2570.0</td>\n",
       "      <td>7242.0</td>\n",
       "      <td>2.0</td>\n",
       "      <td>No</td>\n",
       "      <td>None</td>\n",
       "      <td>...</td>\n",
       "      <td>7</td>\n",
       "      <td>2170.0</td>\n",
       "      <td>400</td>\n",
       "      <td>67</td>\n",
       "      <td>1991</td>\n",
       "      <td>98125.0</td>\n",
       "      <td>47.7210</td>\n",
       "      <td>-122.319</td>\n",
       "      <td>1690.0</td>\n",
       "      <td>7639</td>\n",
       "    </tr>\n",
       "    <tr>\n",
       "      <th>2</th>\n",
       "      <td>5631500400</td>\n",
       "      <td>15 February 2016</td>\n",
       "      <td>180000.0</td>\n",
       "      <td>2</td>\n",
       "      <td>1.00</td>\n",
       "      <td>770.0</td>\n",
       "      <td>10000.0</td>\n",
       "      <td>1.0</td>\n",
       "      <td>No</td>\n",
       "      <td>None</td>\n",
       "      <td>...</td>\n",
       "      <td>6</td>\n",
       "      <td>770.0</td>\n",
       "      <td>0</td>\n",
       "      <td>85</td>\n",
       "      <td>0</td>\n",
       "      <td>98028.0</td>\n",
       "      <td>47.7379</td>\n",
       "      <td>-122.233</td>\n",
       "      <td>2720.0</td>\n",
       "      <td>8062</td>\n",
       "    </tr>\n",
       "    <tr>\n",
       "      <th>3</th>\n",
       "      <td>2487200875</td>\n",
       "      <td>14 December 2017</td>\n",
       "      <td>604000.0</td>\n",
       "      <td>4</td>\n",
       "      <td>3.00</td>\n",
       "      <td>1960.0</td>\n",
       "      <td>5000.0</td>\n",
       "      <td>1.0</td>\n",
       "      <td>No</td>\n",
       "      <td>None</td>\n",
       "      <td>...</td>\n",
       "      <td>7</td>\n",
       "      <td>1050.0</td>\n",
       "      <td>910</td>\n",
       "      <td>53</td>\n",
       "      <td>0</td>\n",
       "      <td>98136.0</td>\n",
       "      <td>47.5208</td>\n",
       "      <td>-122.393</td>\n",
       "      <td>1360.0</td>\n",
       "      <td>5000</td>\n",
       "    </tr>\n",
       "    <tr>\n",
       "      <th>4</th>\n",
       "      <td>1954400510</td>\n",
       "      <td>15 February 2016</td>\n",
       "      <td>510000.0</td>\n",
       "      <td>3</td>\n",
       "      <td>2.00</td>\n",
       "      <td>1680.0</td>\n",
       "      <td>8080.0</td>\n",
       "      <td>1.0</td>\n",
       "      <td>No</td>\n",
       "      <td>None</td>\n",
       "      <td>...</td>\n",
       "      <td>8</td>\n",
       "      <td>1680.0</td>\n",
       "      <td>0</td>\n",
       "      <td>31</td>\n",
       "      <td>0</td>\n",
       "      <td>98074.0</td>\n",
       "      <td>47.6168</td>\n",
       "      <td>-122.045</td>\n",
       "      <td>1800.0</td>\n",
       "      <td>7503</td>\n",
       "    </tr>\n",
       "  </tbody>\n",
       "</table>\n",
       "<p>5 rows × 21 columns</p>\n",
       "</div>"
      ],
      "text/plain": [
       "           ID Date House was Sold  Sale Price  No of Bedrooms  \\\n",
       "0  7129300520     14 October 2017    221900.0               3   \n",
       "1  6414100192    14 December 2017    538000.0               3   \n",
       "2  5631500400    15 February 2016    180000.0               2   \n",
       "3  2487200875    14 December 2017    604000.0               4   \n",
       "4  1954400510    15 February 2016    510000.0               3   \n",
       "\n",
       "   No of Bathrooms  Flat Area (in Sqft)  Lot Area (in Sqft)  No of Floors  \\\n",
       "0             1.00               1180.0              5650.0           1.0   \n",
       "1             2.25               2570.0              7242.0           2.0   \n",
       "2             1.00                770.0             10000.0           1.0   \n",
       "3             3.00               1960.0              5000.0           1.0   \n",
       "4             2.00               1680.0              8080.0           1.0   \n",
       "\n",
       "  Waterfront View No of Times Visited  ... Overall Grade  \\\n",
       "0              No                None  ...             7   \n",
       "1              No                None  ...             7   \n",
       "2              No                None  ...             6   \n",
       "3              No                None  ...             7   \n",
       "4              No                None  ...             8   \n",
       "\n",
       "   Area of the House from Basement (in Sqft)  Basement Area (in Sqft)  \\\n",
       "0                                     1180.0                        0   \n",
       "1                                     2170.0                      400   \n",
       "2                                      770.0                        0   \n",
       "3                                     1050.0                      910   \n",
       "4                                     1680.0                        0   \n",
       "\n",
       "   Age of House (in Years)  Renovated Year  Zipcode  Latitude  Longitude  \\\n",
       "0                       63               0  98178.0   47.5112   -122.257   \n",
       "1                       67            1991  98125.0   47.7210   -122.319   \n",
       "2                       85               0  98028.0   47.7379   -122.233   \n",
       "3                       53               0  98136.0   47.5208   -122.393   \n",
       "4                       31               0  98074.0   47.6168   -122.045   \n",
       "\n",
       "   Living Area after Renovation (in Sqft)  Lot Area after Renovation (in Sqft)  \n",
       "0                                  1340.0                                 5650  \n",
       "1                                  1690.0                                 7639  \n",
       "2                                  2720.0                                 8062  \n",
       "3                                  1360.0                                 5000  \n",
       "4                                  1800.0                                 7503  \n",
       "\n",
       "[5 rows x 21 columns]"
      ]
     },
     "execution_count": 2,
     "metadata": {},
     "output_type": "execute_result"
    }
   ],
   "source": [
    "data=pd.read_csv(\"Raw_Housing_Prices3.csv\")\n",
    "data=data.drop(columns=['Unnamed: 0.1','Unnamed: 0'])\n",
    "data.head()"
   ]
  },
  {
   "cell_type": "code",
   "execution_count": 3,
   "id": "9fd7fc93",
   "metadata": {},
   "outputs": [
    {
     "data": {
      "text/plain": [
       "0"
      ]
     },
     "execution_count": 3,
     "metadata": {},
     "output_type": "execute_result"
    }
   ],
   "source": [
    "sum(data.isnull().sum())"
   ]
  },
  {
   "cell_type": "markdown",
   "id": "2f851322",
   "metadata": {},
   "source": [
    "# Feature Transformation"
   ]
  },
  {
   "cell_type": "code",
   "execution_count": 4,
   "id": "8e61cda7",
   "metadata": {},
   "outputs": [
    {
     "data": {
      "image/png": "[encoded data removed]",
      "text/plain": [
       "<Figure size 1200x840 with 1 Axes>"
      ]
     },
     "metadata": {},
     "output_type": "display_data"
    }
   ],
   "source": [
    "plt.figure(figsize=(10,7),dpi=120)\n",
    "plt.hist(data['Flat Area (in Sqft)'],bins=150,color='red')\n",
    "plt.xlabel(\"Flat Area\")\n",
    "plt.ylabel(\"Frequency\")\n",
    "plt.title(\"Distribution of Flat Area\")\n",
    "plt.show()"
   ]
  },
  {
   "cell_type": "code",
   "execution_count": 5,
   "id": "ea3483bc",
   "metadata": {},
   "outputs": [],
   "source": [
    "def log_transform(sample_data):\n",
    "    return np.log(sample_data)"
   ]
  },
  {
   "cell_type": "code",
   "execution_count": 6,
   "id": "5ec07d2e",
   "metadata": {},
   "outputs": [],
   "source": [
    "data['Transform Flat Area']=data['Flat Area (in Sqft)'].map(log_transform)"
   ]
  },
  {
   "cell_type": "code",
   "execution_count": 7,
   "id": "94edbcf0",
   "metadata": {},
   "outputs": [
    {
     "data": {
      "image/png": "[encoded data removed]",
      "text/plain": [
       "<Figure size 1200x840 with 1 Axes>"
      ]
     },
     "metadata": {},
     "output_type": "display_data"
    }
   ],
   "source": [
    "plt.figure(figsize=(10,7),dpi=120)\n",
    "plt.hist(data['Transform Flat Area'],bins=150,color='red')\n",
    "plt.xlabel('Flat Area')\n",
    "plt.ylabel('frequency')\n",
    "plt.title('Distribution of Flat Area')\n",
    "plt.show()"
   ]
  },
  {
   "cell_type": "markdown",
   "id": "74d85c2b",
   "metadata": {},
   "source": [
    "# Label Encoding"
   ]
  },
  {
   "cell_type": "code",
   "execution_count": 8,
   "id": "7043e890",
   "metadata": {},
   "outputs": [
    {
     "data": {
      "text/plain": [
       "Fair         14028\n",
       "Good          5678\n",
       "Excellent     1701\n",
       "Okay           172\n",
       "Bad             30\n",
       "Name: Condition of the House, dtype: int64"
      ]
     },
     "execution_count": 8,
     "metadata": {},
     "output_type": "execute_result"
    }
   ],
   "source": [
    "label_encoded=data['Condition of the House']\n",
    "label_encoded.value_counts()"
   ]
  },
  {
   "cell_type": "code",
   "execution_count": 9,
   "id": "0896a65b",
   "metadata": {},
   "outputs": [
    {
     "data": {
      "text/plain": [
       "3    14028\n",
       "4     5678\n",
       "5     1701\n",
       "2      172\n",
       "1       30\n",
       "Name: Condition of the House, dtype: int64"
      ]
     },
     "execution_count": 9,
     "metadata": {},
     "output_type": "execute_result"
    }
   ],
   "source": [
    "label_encoded=label_encoded.map({'Bad':1,\n",
    "                                'Okay':2,\n",
    "                                'Fair':3,\n",
    "                                'Good':4,\n",
    "                                'Excellent':5})\n",
    "label_encoded.value_counts()"
   ]
  },
  {
   "cell_type": "markdown",
   "id": "796278e4",
   "metadata": {},
   "source": [
    "# Binning of Sparse Categories"
   ]
  },
  {
   "cell_type": "code",
   "execution_count": 10,
   "id": "97f66516",
   "metadata": {},
   "outputs": [
    {
     "data": {
      "text/plain": [
       "array(['Fair', 'Excellent', 'Good', 'Bad', 'Okay'], dtype=object)"
      ]
     },
     "execution_count": 10,
     "metadata": {},
     "output_type": "execute_result"
    }
   ],
   "source": [
    "data['Condition of the House'].unique()"
   ]
  },
  {
   "cell_type": "code",
   "execution_count": 11,
   "id": "f0696437",
   "metadata": {},
   "outputs": [
    {
     "data": {
      "text/plain": [
       "Fair         14028\n",
       "Good          5678\n",
       "Excellent     1701\n",
       "Okay           172\n",
       "Bad             30\n",
       "Name: Condition of the House, dtype: int64"
      ]
     },
     "execution_count": 11,
     "metadata": {},
     "output_type": "execute_result"
    }
   ],
   "source": [
    "data['Condition of the House'].value_counts()"
   ]
  },
  {
   "cell_type": "code",
   "execution_count": 12,
   "id": "1e4798ca",
   "metadata": {},
   "outputs": [],
   "source": [
    "mean=[]\n",
    "\n",
    "for i in data['Condition of the House'].unique():\n",
    "    mean.append(data['Sale Price'][data['Condition of the House']==i].mean())"
   ]
  },
  {
   "cell_type": "code",
   "execution_count": 13,
   "id": "b933377c",
   "metadata": {},
   "outputs": [
    {
     "data": {
      "text/plain": [
       "Text(0, 0.5, 'Mean Sale Price')"
      ]
     },
     "execution_count": 13,
     "metadata": {},
     "output_type": "execute_result"
    },
    {
     "data": {
      "image/png": "[encoded data removed]",
      "text/plain": [
       "<Figure size 840x840 with 1 Axes>"
      ]
     },
     "metadata": {},
     "output_type": "display_data"
    }
   ],
   "source": [
    "plt.figure(figsize=(7,7),dpi=120)\n",
    "\n",
    "plt.bar(data['Condition of the House'].unique(),mean)\n",
    "plt.xlabel('Condition of the House')\n",
    "plt.ylabel('Mean Sale Price')"
   ]
  },
  {
   "cell_type": "code",
   "execution_count": 17,
   "id": "872b7fef",
   "metadata": {},
   "outputs": [],
   "source": [
    "mapping={'Excellent':'Excellent',\n",
    "        'Good':'Good',\n",
    "        'Fair':'Good',\n",
    "        'Okay':'Okay',\n",
    "        'Bad':'Okay'}\n",
    "data['Condition of the House']=data['Condition of the House'].map(mapping)"
   ]
  },
  {
   "cell_type": "code",
   "execution_count": 18,
   "id": "e1804cc9",
   "metadata": {},
   "outputs": [],
   "source": [
    "mean=[]\n",
    "\n",
    "for i in data['Condition of the House'].unique():\n",
    "    mean.append(data['Sale Price'][data['Condition of the House']==i].mean())"
   ]
  },
  {
   "cell_type": "code",
   "execution_count": 19,
   "id": "ce365bf9",
   "metadata": {},
   "outputs": [
    {
     "data": {
      "text/plain": [
       "Text(0, 0.5, 'Mean Sale Price')"
      ]
     },
     "execution_count": 19,
     "metadata": {},
     "output_type": "execute_result"
    },
    {
     "data": {
      "image/png": "[encoded data removed]",
      "text/plain": [
       "<Figure size 840x840 with 1 Axes>"
      ]
     },
     "metadata": {},
     "output_type": "display_data"
    }
   ],
   "source": [
    "plt.figure(figsize=(7,7),dpi=120)\n",
    "\n",
    "plt.bar(data['Condition of the House'].unique(),mean)\n",
    "plt.xlabel('Condition of the House')\n",
    "plt.ylabel('Mean Sale Price')"
   ]
  },
  {
   "cell_type": "markdown",
   "id": "8b6a9b21",
   "metadata": {},
   "source": [
    "# Binning of Continuous Variables"
   ]
  },
  {
   "cell_type": "code",
   "execution_count": 20,
   "id": "949b969a",
   "metadata": {},
   "outputs": [
    {
     "data": {
      "text/plain": [
       "116"
      ]
     },
     "execution_count": 20,
     "metadata": {},
     "output_type": "execute_result"
    }
   ],
   "source": [
    "len(data['Age of House (in Years)'].unique())"
   ]
  },
  {
   "cell_type": "code",
   "execution_count": 21,
   "id": "87e54f10",
   "metadata": {},
   "outputs": [
    {
     "data": {
      "text/plain": [
       "118"
      ]
     },
     "execution_count": 21,
     "metadata": {},
     "output_type": "execute_result"
    }
   ],
   "source": [
    "data['Age of House (in Years)'].max()"
   ]
  },
  {
   "cell_type": "code",
   "execution_count": 22,
   "id": "bab34975",
   "metadata": {},
   "outputs": [
    {
     "data": {
      "text/plain": [
       "3"
      ]
     },
     "execution_count": 22,
     "metadata": {},
     "output_type": "execute_result"
    }
   ],
   "source": [
    "data['Age of House (in Years)'].min()"
   ]
  },
  {
   "cell_type": "code",
   "execution_count": 23,
   "id": "1804c5ff",
   "metadata": {},
   "outputs": [],
   "source": [
    "def age_of_house(x):\n",
    "    if x<10:\n",
    "        x='new'\n",
    "    elif x<50:\n",
    "        x='old'\n",
    "    else:\n",
    "        x='very old'\n",
    "    return x"
   ]
  },
  {
   "cell_type": "code",
   "execution_count": 25,
   "id": "21967f11",
   "metadata": {},
   "outputs": [
    {
     "data": {
      "text/plain": [
       "array(['very old', 'old', 'new'], dtype=object)"
      ]
     },
     "execution_count": 25,
     "metadata": {},
     "output_type": "execute_result"
    }
   ],
   "source": [
    "cat_house_age=data['Age of House (in Years)'].map(age_of_house)\n",
    "cat_house_age.unique()"
   ]
  },
  {
   "cell_type": "markdown",
   "id": "ce3ed182",
   "metadata": {},
   "source": [
    "# Feature Extraction"
   ]
  },
  {
   "cell_type": "code",
   "execution_count": 26,
   "id": "b5397569",
   "metadata": {},
   "outputs": [
    {
     "data": {
      "text/plain": [
       "0     14 October 2017\n",
       "1    14 December 2017\n",
       "2    15 February 2016\n",
       "3    14 December 2017\n",
       "4    15 February 2016\n",
       "Name: Date House was Sold, dtype: object"
      ]
     },
     "execution_count": 26,
     "metadata": {},
     "output_type": "execute_result"
    }
   ],
   "source": [
    "data['Date House was Sold'].head()"
   ]
  },
  {
   "cell_type": "code",
   "execution_count": 33,
   "id": "80c02f87",
   "metadata": {},
   "outputs": [
    {
     "data": {
      "text/html": [
       "<div>\n",
       "<style scoped>\n",
       "    .dataframe tbody tr th:only-of-type {\n",
       "        vertical-align: middle;\n",
       "    }\n",
       "\n",
       "    .dataframe tbody tr th {\n",
       "        vertical-align: top;\n",
       "    }\n",
       "\n",
       "    .dataframe thead th {\n",
       "        text-align: right;\n",
       "    }\n",
       "</style>\n",
       "<table border=\"1\" class=\"dataframe\">\n",
       "  <thead>\n",
       "    <tr style=\"text-align: right;\">\n",
       "      <th></th>\n",
       "      <th>year_sold</th>\n",
       "      <th>month_sold</th>\n",
       "      <th>weekday_sold</th>\n",
       "      <th>date_sold</th>\n",
       "    </tr>\n",
       "  </thead>\n",
       "  <tbody>\n",
       "    <tr>\n",
       "      <th>0</th>\n",
       "      <td>2017</td>\n",
       "      <td>10</td>\n",
       "      <td>Saturday</td>\n",
       "      <td>31</td>\n",
       "    </tr>\n",
       "    <tr>\n",
       "      <th>1</th>\n",
       "      <td>2017</td>\n",
       "      <td>12</td>\n",
       "      <td>Thursday</td>\n",
       "      <td>31</td>\n",
       "    </tr>\n",
       "    <tr>\n",
       "      <th>2</th>\n",
       "      <td>2016</td>\n",
       "      <td>2</td>\n",
       "      <td>Monday</td>\n",
       "      <td>29</td>\n",
       "    </tr>\n",
       "    <tr>\n",
       "      <th>3</th>\n",
       "      <td>2017</td>\n",
       "      <td>12</td>\n",
       "      <td>Thursday</td>\n",
       "      <td>31</td>\n",
       "    </tr>\n",
       "    <tr>\n",
       "      <th>4</th>\n",
       "      <td>2016</td>\n",
       "      <td>2</td>\n",
       "      <td>Monday</td>\n",
       "      <td>29</td>\n",
       "    </tr>\n",
       "  </tbody>\n",
       "</table>\n",
       "</div>"
      ],
      "text/plain": [
       "   year_sold  month_sold weekday_sold  date_sold\n",
       "0       2017          10     Saturday         31\n",
       "1       2017          12     Thursday         31\n",
       "2       2016           2       Monday         29\n",
       "3       2017          12     Thursday         31\n",
       "4       2016           2       Monday         29"
      ]
     },
     "execution_count": 33,
     "metadata": {},
     "output_type": "execute_result"
    }
   ],
   "source": [
    "time=pd.DatetimeIndex(data['Date House was Sold'])\n",
    "data['year_sold']=time.year\n",
    "data['month_sold']=time.month\n",
    "data['weekday_sold']=time.day_name()\n",
    "data['date_sold']=time.days_in_month\n",
    "\n",
    "data[['year_sold','month_sold','weekday_sold','date_sold']].head()"
   ]
  },
  {
   "cell_type": "markdown",
   "id": "d0983838",
   "metadata": {},
   "source": [
    "# Combination of Features"
   ]
  },
  {
   "cell_type": "code",
   "execution_count": 43,
   "id": "52d12264",
   "metadata": {},
   "outputs": [
    {
     "data": {
      "text/plain": [
       "array(['No', 'Yes'], dtype=object)"
      ]
     },
     "execution_count": 43,
     "metadata": {},
     "output_type": "execute_result"
    }
   ],
   "source": [
    "def luxury_home(row):\n",
    "    count=0\n",
    "    if row[0]=='Yes':\n",
    "        count=count+1\n",
    "    if row[1] in ['Excellent','Good']:\n",
    "        count=count+1\n",
    "    if row[2] >=8:\n",
    "        count=count+1\n",
    "    if count>=2:\n",
    "        return 'Yes'\n",
    "    else:\n",
    "        return 'No'\n",
    "\n",
    "data['luxury_home']=data[['Waterfront View','Condition of the House','Overall Grade']].apply(luxury_home,axis=1)\n",
    "data['luxury_home'].unique()"
   ]
  },
  {
   "cell_type": "code",
   "execution_count": 44,
   "id": "685358d6",
   "metadata": {},
   "outputs": [
    {
     "data": {
      "text/html": [
       "<div>\n",
       "<style scoped>\n",
       "    .dataframe tbody tr th:only-of-type {\n",
       "        vertical-align: middle;\n",
       "    }\n",
       "\n",
       "    .dataframe tbody tr th {\n",
       "        vertical-align: top;\n",
       "    }\n",
       "\n",
       "    .dataframe thead th {\n",
       "        text-align: right;\n",
       "    }\n",
       "</style>\n",
       "<table border=\"1\" class=\"dataframe\">\n",
       "  <thead>\n",
       "    <tr style=\"text-align: right;\">\n",
       "      <th>luxury_home</th>\n",
       "      <th>No</th>\n",
       "      <th>Yes</th>\n",
       "    </tr>\n",
       "  </thead>\n",
       "  <tbody>\n",
       "    <tr>\n",
       "      <th>Sale Price</th>\n",
       "      <td>380385.64475</td>\n",
       "      <td>655067.166021</td>\n",
       "    </tr>\n",
       "  </tbody>\n",
       "</table>\n",
       "</div>"
      ],
      "text/plain": [
       "luxury_home            No            Yes\n",
       "Sale Price   380385.64475  655067.166021"
      ]
     },
     "execution_count": 44,
     "metadata": {},
     "output_type": "execute_result"
    }
   ],
   "source": [
    "luxury=data.pivot_table(values=\"Sale Price\",columns=\"luxury_home\",aggfunc='mean')\n",
    "luxury"
   ]
  },
  {
   "cell_type": "code",
   "execution_count": 45,
   "id": "fe1c0b8b",
   "metadata": {},
   "outputs": [
    {
     "data": {
      "text/plain": [
       "Text(0, 0.5, 'Mean Sale Price')"
      ]
     },
     "execution_count": 45,
     "metadata": {},
     "output_type": "execute_result"
    },
    {
     "data": {
      "image/png": "[encoded data removed]",
      "text/plain": [
       "<Figure size 600x600 with 1 Axes>"
      ]
     },
     "metadata": {},
     "output_type": "display_data"
    }
   ],
   "source": [
    "plt.figure(figsize=(5,5),dpi=120)\n",
    "plt.bar(luxury.columns,luxury.iloc[0])\n",
    "plt.xlabel('Luxury Home')\n",
    "plt.ylabel('Mean Sale Price')"
   ]
  }
 ],
 "metadata": {
  "kernelspec": {
   "display_name": "Python 3 (ipykernel)",
   "language": "python",
   "name": "python3"
  },
  "language_info": {
   "codemirror_mode": {
    "name": "ipython",
    "version": 3
   },
   "file_extension": ".py",
   "mimetype": "text/x-python",
   "name": "python",
   "nbconvert_exporter": "python",
   "pygments_lexer": "ipython3",
   "version": "3.9.12"
  }
 },
 "nbformat": 4,
 "nbformat_minor": 5
}
